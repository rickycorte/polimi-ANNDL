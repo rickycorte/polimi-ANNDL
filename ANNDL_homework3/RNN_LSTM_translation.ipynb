{
  "nbformat": 4,
  "nbformat_minor": 0,
  "metadata": {
    "colab": {
      "name": "RNN_LSTM_translation.ipynb",
      "provenance": [],
      "collapsed_sections": []
    },
    "kernelspec": {
      "name": "python3",
      "display_name": "Python 3"
    },
    "accelerator": "GPU"
  },
  "cells": [
    {
      "cell_type": "code",
      "metadata": {
        "id": "EqgfYhEeH5rW"
      },
      "source": [
        "# Translation example with recurrent neural networks \r\n",
        "\r\n",
        "import tensorflow as tf\r\n",
        "import numpy as np \r\n",
        "import os \r\n",
        "\r\n",
        "SEED = 1234\r\n",
        "\r\n",
        "working_directory = os.getcwd()\r\n",
        "\r\n",
        "tf.random.set_seed(SEED)\r\n",
        "np.random.seed(SEED)"
      ],
      "execution_count": 1,
      "outputs": []
    },
    {
      "cell_type": "code",
      "metadata": {
        "colab": {
          "base_uri": "https://localhost:8080/"
        },
        "id": "D3WMf0BfJ0qO",
        "outputId": "aa30b736-bd05-4bff-9919-f24e8807cef9"
      },
      "source": [
        "from google.colab import drive\r\n",
        "drive.mount(os.path.join(working_directory,'gdrive'))"
      ],
      "execution_count": 2,
      "outputs": [
        {
          "output_type": "stream",
          "text": [
            "Mounted at /content/gdrive\n"
          ],
          "name": "stdout"
        }
      ]
    },
    {
      "cell_type": "code",
      "metadata": {
        "colab": {
          "base_uri": "https://localhost:8080/"
        },
        "id": "18rKnscSJ4qN",
        "outputId": "c52a2c3f-97f1-41c4-9512-8679e8cabb7d"
      },
      "source": [
        "!ls gdrive/MyDrive"
      ],
      "execution_count": 3,
      "outputs": [
        {
          "output_type": "stream",
          "text": [
            "'Colab Notebooks'\t\t    mixedtree.c\n",
            "'DD document.gdoc'\t\t    output_submission\n",
            "'DD to be analyzed.gdoc'\t   'RASD document.gdoc'\n",
            "'Documento senza titolo (1).gdoc'   Relation1_AN2DL.gdoc\n",
            "'Documento senza titolo.gdoc'\t    Relation_GrottaNatta_H2.gdoc\n",
            " ita.txt\t\t\t   'Research project notes.gdoc'\n",
            " Keras3\t\t\t\t   'Transaction control DB2.gdoc'\n",
            " MaskDataset\t\t\t    UCMerced_LandUse.zip\n",
            " MaskDataset.zip\t\t    VOCDataset.zip\n"
          ],
          "name": "stdout"
        }
      ]
    },
    {
      "cell_type": "code",
      "metadata": {
        "id": "I45AnNrCJ4qO"
      },
      "source": [
        "dataset_path = os.path.join(working_directory,'gdrive','MyDrive','ita.txt')"
      ],
      "execution_count": 4,
      "outputs": []
    },
    {
      "cell_type": "markdown",
      "metadata": {
        "id": "xKsP_uftZZ-K"
      },
      "source": [
        "# **Dataset**"
      ]
    },
    {
      "cell_type": "code",
      "metadata": {
        "colab": {
          "base_uri": "https://localhost:8080/"
        },
        "id": "ro2ZhVhqLoW8",
        "outputId": "84a2b304-b2df-44c5-c5dc-da29d6b8aef0"
      },
      "source": [
        "# preparing dataset \r\n",
        "\r\n",
        "MAX_NUM_SENTENCES = 40000\r\n",
        "MAX_NUM_WORDS = 20000\r\n",
        "\r\n",
        "ita_sentences = []\r\n",
        "eng_sentences = []\r\n",
        "eng_sentences_train = []\r\n",
        "\r\n",
        "# Simplify the dataset\r\n",
        "MAX_LEN = 3 # maximum length of a sentence\r\n",
        "\r\n",
        "# Read all lines in translation dataset\r\n",
        "count = 0\r\n",
        "for line in open(dataset_path, encoding='utf-8'):\r\n",
        "    \r\n",
        "    if count > MAX_NUM_SENTENCES:\r\n",
        "        break\r\n",
        "\r\n",
        "    if '\\t' not in line:\r\n",
        "        continue\r\n",
        "        \r\n",
        "    eng_sentence_, ita_sentence, _ = line.rstrip().split('\\t') # eng and ita sentence are separated by a tab\r\n",
        "\r\n",
        "    if (len(eng_sentence_.split(' ')) > MAX_LEN or\r\n",
        "          len(ita_sentence.split(' ')) > MAX_LEN):\r\n",
        "      continue\r\n",
        "    \r\n",
        "    # using teacher forcing training -> using output as input in sequence prediction \r\n",
        "    # each LSTM has 2 inputs (one for the previous state and one free)\r\n",
        "    # for the decoder part of the seq2seq model I have the input of the previous state\r\n",
        "    # and the previous target word (t-1). We use the previous target word as input\r\n",
        "    # and we compare the final output of that single LSTM with the target word of t \r\n",
        "    # Prepend <SOS> to the target_sequence to obtain the target_input_sequence and\r\n",
        "    # append <EOS> to obtain target_output_sequence .\r\n",
        "    \r\n",
        "    # target output of the decoder\r\n",
        "    eng_sentence = eng_sentence_ + ' <eos>'\r\n",
        "    # input of the decoder\r\n",
        "    eng_sentence_train = '<sos> ' + eng_sentence_\r\n",
        "    \r\n",
        "    ita_sentences.append(ita_sentence)\r\n",
        "    eng_sentences.append(eng_sentence)\r\n",
        "    eng_sentences_train.append(eng_sentence_train)\r\n",
        "\r\n",
        "    count += 1\r\n",
        "\r\n",
        "print('Number of sentences:', len(ita_sentences))\r\n"
      ],
      "execution_count": 5,
      "outputs": [
        {
          "output_type": "stream",
          "text": [
            "Number of sentences: 32499\n"
          ],
          "name": "stdout"
        }
      ]
    },
    {
      "cell_type": "code",
      "metadata": {
        "colab": {
          "base_uri": "https://localhost:8080/"
        },
        "id": "EemLCAKTVWwm",
        "outputId": "7f5dfd8b-1803-4343-efd8-5b1cb25ab789"
      },
      "source": [
        "# max number of words in eng_sentences (eng sentences with '<eos>' appended)\r\n",
        "max(len(sentence.split(' ')) for sentence in eng_sentences)"
      ],
      "execution_count": 6,
      "outputs": [
        {
          "output_type": "execute_result",
          "data": {
            "text/plain": [
              "4"
            ]
          },
          "metadata": {
            "tags": []
          },
          "execution_count": 6
        }
      ]
    },
    {
      "cell_type": "markdown",
      "metadata": {
        "id": "JBU_kxT0WBfk"
      },
      "source": [
        "# **Tokenization**: converting word to integers"
      ]
    },
    {
      "cell_type": "code",
      "metadata": {
        "colab": {
          "base_uri": "https://localhost:8080/"
        },
        "id": "X0JbfcSuVl59",
        "outputId": "e1c5fc18-9643-46f8-d0a1-a58040adc87a"
      },
      "source": [
        "from tensorflow.keras.preprocessing.text import Tokenizer\r\n",
        "from tensorflow.keras.preprocessing.sequence import pad_sequences\r\n",
        "\r\n",
        "# LSTMs work with integers and not strings \r\n",
        "\r\n",
        "# Create Tokenizer to convert words to integers\r\n",
        "ita_tokenizer = Tokenizer(num_words= MAX_NUM_WORDS) #length of the vocabulary \r\n",
        "ita_tokenizer.fit_on_texts(ita_sentences)\r\n",
        "\r\n",
        "# ita_tokenized is the list of ita sentences converted to sequences of integers\r\n",
        "ita_tokenized = ita_tokenizer.texts_to_sequences(ita_sentences)\r\n",
        "\r\n",
        "# ita_wtoi is a dictionary mapping words to the integer associated thanks to tokenizer\r\n",
        "ita_wtoi = ita_tokenizer.word_index\r\n",
        "print('Total italian words:', len(ita_wtoi))\r\n",
        "\r\n",
        "max_ita_length = max(len(sentence) for sentence in ita_tokenized)\r\n",
        "print('Max italian sentence length:', max_ita_length)\r\n",
        "\r\n",
        "# tokenization of both eng_sentences list ('+' is the union of strings)\r\n",
        "eng_tokenizer = Tokenizer(num_words=MAX_NUM_WORDS, filters='?!,.\"')\r\n",
        "eng_tokenizer.fit_on_texts(eng_sentences+eng_sentences_train)\r\n",
        "\r\n",
        "# converting the 2 lists\r\n",
        "eng_tokenized = eng_tokenizer.texts_to_sequences(eng_sentences)\r\n",
        "eng_tokenized_train = eng_tokenizer.texts_to_sequences(eng_sentences_train)\r\n",
        "\r\n",
        "eng_wtoi = eng_tokenizer.word_index\r\n",
        "print('Total english words:', len(eng_wtoi))\r\n",
        "\r\n",
        "max_eng_length = max(len(sentence) for sentence in eng_tokenized)\r\n",
        "print('Max english sentence length:', max_eng_length)\r\n",
        "\r\n",
        "num_eng_words = len(eng_wtoi) + 1"
      ],
      "execution_count": 7,
      "outputs": [
        {
          "output_type": "stream",
          "text": [
            "Total italian words: 8524\n",
            "Max italian sentence length: 4\n",
            "Total english words: 3858\n",
            "Max english sentence length: 4\n"
          ],
          "name": "stdout"
        }
      ]
    },
    {
      "cell_type": "code",
      "metadata": {
        "colab": {
          "base_uri": "https://localhost:8080/"
        },
        "id": "iZZYWGnRWeUc",
        "outputId": "75b71a80-051e-4cb3-f08a-1bf4ada1bbb1"
      },
      "source": [
        "# Padding sequences\r\n",
        "\r\n",
        "# <PAD> is 0 in the wtoi dictionary \r\n",
        "# post padding  ->  aaaa0..0 \r\n",
        "# pre padding   ->  0..0aaaa \r\n",
        "\r\n",
        "# Pad to max italian sentence length\r\n",
        "ita_encoder_inputs = pad_sequences(ita_tokenized, maxlen=max_ita_length) # padding automatically set to pre\r\n",
        "\r\n",
        "print(\"Italian encoder inputs shape:\", ita_encoder_inputs.shape)\r\n",
        "\r\n",
        "# Pad to max english sentence length\r\n",
        "eng_decoder_inputs = pad_sequences(eng_tokenized_train, maxlen=max_eng_length, padding='post')\r\n",
        "\r\n",
        "print(\"English decoder inputs shape:\", eng_decoder_inputs.shape)\r\n",
        "\r\n",
        "# Pad to max english sentence length\r\n",
        "eng_outputs = pad_sequences(eng_tokenized, maxlen=max_eng_length, padding='post')"
      ],
      "execution_count": 8,
      "outputs": [
        {
          "output_type": "stream",
          "text": [
            "Italian encoder inputs shape: (32499, 4)\n",
            "English decoder inputs shape: (32499, 4)\n"
          ],
          "name": "stdout"
        }
      ]
    },
    {
      "cell_type": "code",
      "metadata": {
        "colab": {
          "base_uri": "https://localhost:8080/"
        },
        "id": "jhCOz5NkaoRT",
        "outputId": "043a58b1-ebf2-4ea2-c2cc-9d66fdf7c2f9"
      },
      "source": [
        "print(len(ita_wtoi))"
      ],
      "execution_count": 9,
      "outputs": [
        {
          "output_type": "stream",
          "text": [
            "8524\n"
          ],
          "name": "stdout"
        }
      ]
    },
    {
      "cell_type": "code",
      "metadata": {
        "id": "_70wrF5obLy8"
      },
      "source": [
        ""
      ],
      "execution_count": 9,
      "outputs": []
    },
    {
      "cell_type": "markdown",
      "metadata": {
        "id": "KuvDLYkuZKJr"
      },
      "source": [
        "# **Model**\r\n",
        "\r\n"
      ]
    },
    {
      "cell_type": "markdown",
      "metadata": {
        "id": "QL2tZlmRch2G"
      },
      "source": [
        "# Single cell of a LSTM\r\n",
        "![LSTM.PNG](data:image/png;base64,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)"
      ]
    },
    {
      "cell_type": "code",
      "metadata": {
        "id": "BYkUxm9wZJ7R"
      },
      "source": [
        "# Build Encoder-Decoder Model\r\n",
        "# ---------------------------\r\n",
        "\r\n",
        "EMBEDDING_SIZE = 32\r\n",
        "\r\n",
        "# ENCODER\r\n",
        "# -------\r\n",
        "# in keras out = layer(input)\r\n",
        "\r\n",
        "encoder_input = tf.keras.Input(shape=[max_ita_length])\r\n",
        "\r\n",
        "# Embedding layer: Turns positive integers (indexes) into dense vectors of fixed size.\r\n",
        "# I will have 8524 integers that will be embedded in 32 \r\n",
        "# If mask_zero is set to True, as a consequence, index 0 cannot be used in the \r\n",
        "# vocabulary (input_dim should equal size of vocabulary + 1). \r\n",
        "# in ita_wtoi I don't have {0: padding} but it's implicit and integers starts from 1\r\n",
        "# mask_zero takes the 0 and cut it out \r\n",
        "encoder_embedding_layer = tf.keras.layers.Embedding(len(ita_wtoi)+1, EMBEDDING_SIZE, input_length=max_ita_length, mask_zero=True)\r\n",
        "encoder_embedding_out = encoder_embedding_layer(encoder_input)\r\n",
        "\r\n",
        "# I need 128 units because I have 4 words each embedded in 32 integers values (128 lstm cells)\r\n",
        "encoder = tf.keras.layers.LSTM(units=128, return_state=True)\r\n",
        "\r\n",
        "encoder_output, h, c = encoder(encoder_embedding_out)\r\n",
        "encoder_states = [h, c]\r\n",
        "\r\n",
        "# DECODER\r\n",
        "# -------\r\n",
        "\r\n",
        "# same as the encoder\r\n",
        "decoder_input = tf.keras.Input(shape=[max_eng_length])\r\n",
        "decoder_embedding_layer = tf.keras.layers.Embedding(len(eng_wtoi)+1, EMBEDDING_SIZE)\r\n",
        "decoder_embedding_out = decoder_embedding_layer(decoder_input)\r\n",
        "\r\n",
        "# return_sequences = True -> return each output \r\n",
        "decoder_lstm = tf.keras.layers.LSTM(units=128, return_sequences=True, return_state=True)\r\n",
        "\r\n",
        "# Initialize decoder state with final returned encoder state [h,c] (initial_state=encoder_states)\r\n",
        "decoder_lstm_out, _, _ = decoder_lstm(decoder_embedding_out, initial_state=encoder_states)\r\n",
        "\r\n",
        "# the decoder output is a sequence of integers that needs to be decoded with a dense layer.\r\n",
        "# remember that each of the 128 units of the decoder outputs a number that is part of the embedding (32) of a single word. 32 numbers of those should activate the \r\n",
        "# n-th neuron of the dense layer which corresponds to the assigned integer in the wtoi dictionary of the word (embedded in those 32 numbers).\r\n",
        "decoder_dense = tf.keras.layers.Dense(len(eng_wtoi)+1, activation='softmax')\r\n",
        "decoder = decoder_dense(decoder_lstm_out)\r\n",
        "\r\n",
        "# MODEL\r\n",
        "model = tf.keras.Model([encoder_input, decoder_input], decoder)"
      ],
      "execution_count": 10,
      "outputs": []
    },
    {
      "cell_type": "code",
      "metadata": {
        "colab": {
          "base_uri": "https://localhost:8080/"
        },
        "id": "k-7jbjHyYjZ7",
        "outputId": "cf09d6b7-1093-4bb9-adc1-f931404228f7"
      },
      "source": [
        "model.summary()"
      ],
      "execution_count": 11,
      "outputs": [
        {
          "output_type": "stream",
          "text": [
            "Model: \"model\"\n",
            "__________________________________________________________________________________________________\n",
            "Layer (type)                    Output Shape         Param #     Connected to                     \n",
            "==================================================================================================\n",
            "input_1 (InputLayer)            [(None, 4)]          0                                            \n",
            "__________________________________________________________________________________________________\n",
            "input_2 (InputLayer)            [(None, 4)]          0                                            \n",
            "__________________________________________________________________________________________________\n",
            "embedding (Embedding)           (None, 4, 32)        272800      input_1[0][0]                    \n",
            "__________________________________________________________________________________________________\n",
            "embedding_1 (Embedding)         (None, 4, 32)        123488      input_2[0][0]                    \n",
            "__________________________________________________________________________________________________\n",
            "lstm (LSTM)                     [(None, 128), (None, 82432       embedding[0][0]                  \n",
            "__________________________________________________________________________________________________\n",
            "lstm_1 (LSTM)                   [(None, 4, 128), (No 82432       embedding_1[0][0]                \n",
            "                                                                 lstm[0][1]                       \n",
            "                                                                 lstm[0][2]                       \n",
            "__________________________________________________________________________________________________\n",
            "dense (Dense)                   (None, 4, 3859)      497811      lstm_1[0][0]                     \n",
            "==================================================================================================\n",
            "Total params: 1,058,963\n",
            "Trainable params: 1,058,963\n",
            "Non-trainable params: 0\n",
            "__________________________________________________________________________________________________\n"
          ],
          "name": "stdout"
        }
      ]
    },
    {
      "cell_type": "code",
      "metadata": {
        "id": "FPq4vcBMYmFs"
      },
      "source": [
        "# Optimization params\r\n",
        "# -------------------\r\n",
        "\r\n",
        "# Loss\r\n",
        "loss = tf.keras.losses.SparseCategoricalCrossentropy()\r\n",
        "\r\n",
        "# learning rate\r\n",
        "lr = 1e-3\r\n",
        "optimizer = tf.keras.optimizers.Adam(learning_rate=lr)\r\n",
        "# -------------------\r\n",
        "\r\n",
        "# Validation metrics\r\n",
        "# ------------------\r\n",
        "\r\n",
        "metrics = ['accuracy']\r\n",
        "# ------------------\r\n",
        "\r\n",
        "# Compile Model\r\n",
        "model.compile(optimizer=optimizer, loss=loss, metrics=metrics)\r\n",
        "\r\n",
        "checkpoint_dir = os.path.join(working_directory,'ckpts')\r\n",
        "\r\n",
        "if not os.path.exists(checkpoint_dir):\r\n",
        "  os.mkdir(checkpoint_dir)\r\n",
        "\r\n",
        "callbacks = [tf.keras.callbacks.ModelCheckpoint(\r\n",
        "    filepath = checkpoint_dir, monitor='val_loss', verbose=0, save_best_only=True,\r\n",
        "    save_weights_only=True, mode='auto'\r\n",
        ")]\r\n"
      ],
      "execution_count": 16,
      "outputs": []
    },
    {
      "cell_type": "code",
      "metadata": {
        "colab": {
          "base_uri": "https://localhost:8080/"
        },
        "id": "N2HLaDuofX3E",
        "outputId": "b0a73138-5c75-42c2-e5ac-88afc6e19344"
      },
      "source": [
        "model.fit([ita_encoder_inputs, eng_decoder_inputs],\r\n",
        "          eng_outputs,\r\n",
        "          epochs=25,\r\n",
        "          batch_size=128, \r\n",
        "          validation_split=0.1, \r\n",
        "          callbacks=callbacks)"
      ],
      "execution_count": 17,
      "outputs": [
        {
          "output_type": "stream",
          "text": [
            "Epoch 1/25\n",
            "229/229 [==============================] - 11s 30ms/step - loss: 0.5425 - accuracy: 0.8784 - val_loss: 3.7670 - val_accuracy: 0.5435\n",
            "Epoch 2/25\n",
            "229/229 [==============================] - 5s 24ms/step - loss: 0.5006 - accuracy: 0.8902 - val_loss: 3.7758 - val_accuracy: 0.5485\n",
            "Epoch 3/25\n",
            "229/229 [==============================] - 6s 24ms/step - loss: 0.4610 - accuracy: 0.8966 - val_loss: 3.8104 - val_accuracy: 0.5504\n",
            "Epoch 4/25\n",
            "229/229 [==============================] - 6s 25ms/step - loss: 0.4208 - accuracy: 0.9041 - val_loss: 3.8365 - val_accuracy: 0.5524\n",
            "Epoch 5/25\n",
            "229/229 [==============================] - 6s 24ms/step - loss: 0.3898 - accuracy: 0.9086 - val_loss: 3.8633 - val_accuracy: 0.5541\n",
            "Epoch 6/25\n",
            "229/229 [==============================] - 6s 25ms/step - loss: 0.3630 - accuracy: 0.9139 - val_loss: 3.9031 - val_accuracy: 0.5528\n",
            "Epoch 7/25\n",
            "229/229 [==============================] - 6s 24ms/step - loss: 0.3395 - accuracy: 0.9180 - val_loss: 3.9343 - val_accuracy: 0.5522\n",
            "Epoch 8/25\n",
            "229/229 [==============================] - 6s 24ms/step - loss: 0.3114 - accuracy: 0.9224 - val_loss: 3.9502 - val_accuracy: 0.5551\n",
            "Epoch 9/25\n",
            "229/229 [==============================] - 6s 24ms/step - loss: 0.2946 - accuracy: 0.9267 - val_loss: 3.9541 - val_accuracy: 0.5587\n",
            "Epoch 10/25\n",
            "229/229 [==============================] - 6s 24ms/step - loss: 0.2778 - accuracy: 0.9284 - val_loss: 4.0132 - val_accuracy: 0.5582\n",
            "Epoch 11/25\n",
            "229/229 [==============================] - 5s 24ms/step - loss: 0.2631 - accuracy: 0.9309 - val_loss: 4.0223 - val_accuracy: 0.5632\n",
            "Epoch 12/25\n",
            "229/229 [==============================] - 6s 25ms/step - loss: 0.2455 - accuracy: 0.9344 - val_loss: 4.0536 - val_accuracy: 0.5598\n",
            "Epoch 13/25\n",
            "229/229 [==============================] - 5s 24ms/step - loss: 0.2340 - accuracy: 0.9358 - val_loss: 4.0658 - val_accuracy: 0.5622\n",
            "Epoch 14/25\n",
            "229/229 [==============================] - 6s 24ms/step - loss: 0.2222 - accuracy: 0.9378 - val_loss: 4.1031 - val_accuracy: 0.5635\n",
            "Epoch 15/25\n",
            "229/229 [==============================] - 6s 25ms/step - loss: 0.2097 - accuracy: 0.9397 - val_loss: 4.1489 - val_accuracy: 0.5622\n",
            "Epoch 16/25\n",
            "229/229 [==============================] - 6s 24ms/step - loss: 0.2014 - accuracy: 0.9406 - val_loss: 4.1328 - val_accuracy: 0.5629\n",
            "Epoch 17/25\n",
            "229/229 [==============================] - 6s 25ms/step - loss: 0.1929 - accuracy: 0.9429 - val_loss: 4.1720 - val_accuracy: 0.5624\n",
            "Epoch 18/25\n",
            "229/229 [==============================] - 6s 24ms/step - loss: 0.1855 - accuracy: 0.9429 - val_loss: 4.2149 - val_accuracy: 0.5632\n",
            "Epoch 19/25\n",
            "229/229 [==============================] - 6s 24ms/step - loss: 0.1774 - accuracy: 0.9442 - val_loss: 4.1920 - val_accuracy: 0.5685\n",
            "Epoch 20/25\n",
            "229/229 [==============================] - 5s 24ms/step - loss: 0.1715 - accuracy: 0.9441 - val_loss: 4.2354 - val_accuracy: 0.5662\n",
            "Epoch 21/25\n",
            "229/229 [==============================] - 6s 24ms/step - loss: 0.1657 - accuracy: 0.9456 - val_loss: 4.2243 - val_accuracy: 0.5673\n",
            "Epoch 22/25\n",
            "229/229 [==============================] - 6s 24ms/step - loss: 0.1632 - accuracy: 0.9446 - val_loss: 4.2566 - val_accuracy: 0.5653\n",
            "Epoch 23/25\n",
            "229/229 [==============================] - 6s 24ms/step - loss: 0.1556 - accuracy: 0.9474 - val_loss: 4.3324 - val_accuracy: 0.5651\n",
            "Epoch 24/25\n",
            "229/229 [==============================] - 5s 24ms/step - loss: 0.1492 - accuracy: 0.9477 - val_loss: 4.3195 - val_accuracy: 0.5688\n",
            "Epoch 25/25\n",
            "229/229 [==============================] - 5s 24ms/step - loss: 0.1462 - accuracy: 0.9483 - val_loss: 4.3456 - val_accuracy: 0.5677\n"
          ],
          "name": "stdout"
        },
        {
          "output_type": "execute_result",
          "data": {
            "text/plain": [
              "<tensorflow.python.keras.callbacks.History at 0x7ff9703d3d30>"
            ]
          },
          "metadata": {
            "tags": []
          },
          "execution_count": 17
        }
      ]
    },
    {
      "cell_type": "markdown",
      "metadata": {
        "id": "pjz1LsPRlilL"
      },
      "source": [
        "# **Model to use for predicitons:**"
      ]
    },
    {
      "cell_type": "markdown",
      "metadata": {
        "id": "1Q8Dm0MqleNN"
      },
      "source": [
        "![LSTM2.PNG](data:image/png;base64,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)"
      ]
    },
    {
      "cell_type": "code",
      "metadata": {
        "id": "YYrBsaGjgDRy"
      },
      "source": [
        "# Uncomment this to load model\r\n",
        "\r\n",
        "# Modify the model such that the decoder takes prdictions as inputs (no teacher forcing)\r\n",
        "\r\n",
        "# ENCODER (remains the same)\r\n",
        "# -------\r\n",
        "encoder_model = tf.keras.Model(encoder_input, encoder_states)\r\n",
        "\r\n",
        "# DECODER (modified)\r\n",
        "# ------------------\r\n",
        "decoder_state_input_h = tf.keras.Input(shape=[128])\r\n",
        "decoder_state_input_c = tf.keras.Input(shape=[128])\r\n",
        "decoder_state_inputs = [decoder_state_input_h, decoder_state_input_c]\r\n",
        "\r\n",
        "# I only have a single input for the decoder -> start\r\n",
        "# other inputs are taken from the states of the previous sequence  \r\n",
        "decoder_input_single = tf.keras.Input(shape=[1])\r\n",
        "decoder_input_single_embedding = decoder_embedding_layer(decoder_input_single)\r\n",
        "\r\n",
        "\r\n",
        "decoder_outputs, h, c = decoder_lstm(decoder_input_single_embedding, initial_state=decoder_state_inputs)\r\n",
        "\r\n",
        "decoder_states = [h, c]\r\n",
        "decoder_outputs = decoder_dense(decoder_outputs)\r\n",
        "\r\n",
        "decoder_model = tf.keras.Model([decoder_input_single] + decoder_state_inputs,\r\n",
        "                               [decoder_outputs]+decoder_states)\r\n",
        "\r\n"
      ],
      "execution_count": 20,
      "outputs": []
    },
    {
      "cell_type": "code",
      "metadata": {
        "id": "hUaWsazShpV6"
      },
      "source": [
        "# Translation utils\r\n",
        "ita_itow = {v:k for k, v in ita_wtoi.items()}\r\n",
        "eng_itow = {v:k for k, v in eng_wtoi.items()}\r\n",
        "\r\n",
        "def translate(input_sentence):\r\n",
        "    \r\n",
        "    # Prepare input sentence\r\n",
        "    input_tokenized = ita_tokenizer.texts_to_sequences([input_sentence])\r\n",
        "    input_tokenized = pad_sequences(input_tokenized, maxlen=max_ita_length)\r\n",
        "    \r\n",
        "    # Get encoder state\r\n",
        "    states_value = encoder_model.predict(input_tokenized)\r\n",
        "    \r\n",
        "    # Set first input '<sos>'\r\n",
        "    curr_input = np.zeros([1, 1])  # bs x seq_length (1 x 1 at the beginning)\r\n",
        "    curr_input[0, 0] = eng_wtoi['<sos>']\r\n",
        "    eos = eng_wtoi['<eos>']\r\n",
        "    \r\n",
        "    output_sentence = []\r\n",
        "    \r\n",
        "    # Cycle until max_eng_length or until the '<eos>' is predicted\r\n",
        "    for _ in range(max_eng_length):\r\n",
        "        preds, h_, c_ = decoder_model.predict([curr_input]+states_value)\r\n",
        "        word_id = np.argmax(preds[0, 0, :])\r\n",
        "        \r\n",
        "        if eos == word_id:\r\n",
        "            break\r\n",
        "        \r\n",
        "        word = ''\r\n",
        "        \r\n",
        "        if word_id > 0:\r\n",
        "            word = eng_itow[word_id]\r\n",
        "            output_sentence.append(word)\r\n",
        "            \r\n",
        "        # Update next input with the predicted one\r\n",
        "        curr_input[0, 0] = word_id\r\n",
        "        # Update state\r\n",
        "        states_value = [h_, c_]\r\n",
        "    \r\n",
        "    return ' '.join(output_sentence)"
      ],
      "execution_count": 21,
      "outputs": []
    },
    {
      "cell_type": "code",
      "metadata": {
        "colab": {
          "base_uri": "https://localhost:8080/"
        },
        "id": "R9vO2xFniVrK",
        "outputId": "4b9f336b-a415-4cf9-d478-b7149249dd93"
      },
      "source": [
        "print(translate(\"Bel piccione\"))"
      ],
      "execution_count": 31,
      "outputs": [
        {
          "output_type": "stream",
          "text": [
            "forget that\n"
          ],
          "name": "stdout"
        }
      ]
    },
    {
      "cell_type": "code",
      "metadata": {
        "colab": {
          "base_uri": "https://localhost:8080/"
        },
        "id": "D7ActFutiYLZ",
        "outputId": "96dbff03-9c0c-41fa-f205-7c8ebc230949"
      },
      "source": [
        ""
      ],
      "execution_count": 36,
      "outputs": [
        {
          "output_type": "stream",
          "text": [
            "i fell lying\n"
          ],
          "name": "stdout"
        }
      ]
    },
    {
      "cell_type": "code",
      "metadata": {
        "colab": {
          "base_uri": "https://localhost:8080/"
        },
        "id": "qMNsIUFxjDBh",
        "outputId": "8e6ceba5-fe0d-4903-a068-f88a20d25370"
      },
      "source": [
        ""
      ],
      "execution_count": 38,
      "outputs": [
        {
          "output_type": "stream",
          "text": [
            "fight you\n"
          ],
          "name": "stdout"
        }
      ]
    },
    {
      "cell_type": "code",
      "metadata": {
        "id": "RbCa_HYRjyuB"
      },
      "source": [
        ""
      ],
      "execution_count": null,
      "outputs": []
    }
  ]
}